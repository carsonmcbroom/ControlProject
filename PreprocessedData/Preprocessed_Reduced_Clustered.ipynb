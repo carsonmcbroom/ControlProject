{
 "cells": [
  {
   "cell_type": "code",
   "execution_count": null,
   "metadata": {},
   "outputs": [],
   "source": [
    "#import pandas\n",
    "import pandas as pd\n",
    "\n",
    "#import x and y data\n",
    "# x_data = pd.read_csv(r'C:\\Users\\nflfa\\Desktop\\Git\\ControlProject\\RawData\\RawData.csv')\n",
    "# y_data = pd.read_csv(r'C:\\Users\\nflfa\\Desktop\\Git\\ControlProject\\RawData\\RawData_Label.csv')\n",
    "\n",
    "# x_data = pd.read_csv(\"RawData/RawData.csv\", sep = \"\\t\", header = None,)\n",
    "x_data = pd.read_csv('https://raw.githubusercontent.com/carsonmcbroom/ControlProject/main/RawData/RawData.csv')\n",
    "y_data = pd.read_csv('https://raw.githubusercontent.com/carsonmcbroom/ControlProject/main/RawData/RawData_Label.csv')\n",
    "\n",
    "\n",
    "print(x_data.head)\n",
    "print(y_data.head)"
   ]
  },
  {
   "cell_type": "code",
   "execution_count": null,
   "id": "0a36ef9c",
   "metadata": {},
   "outputs": [],
   "source": [
    "#filling empty values with the attribute mean\n",
    "x_data = x_data.fillna(x_data.mean())\n",
    "y_data = y_data.fillna(y_data.mean())\n",
    "\n",
    "print(x_data)\n",
    "print(y_data)"
   ]
  },
  {
   "cell_type": "code",
   "execution_count": null,
   "id": "08e9e5fc",
   "metadata": {},
   "outputs": [],
   "source": [
    "#set final x and y values\n",
    "x = x_data.drop(columns = \"Index\")\n",
    "y = y_data['label']\n",
    "\n",
    "print(x)\n",
    "print(y)"
   ]
  },
  {
   "cell_type": "code",
   "execution_count": null,
   "id": "1495a3c1",
   "metadata": {},
   "outputs": [],
   "source": [
    "#importing sklearn to transform and split the data\n",
    "import sklearn\n",
    "\n",
    "#x data must be scaled with standard scaler\n",
    "from sklearn.preprocessing import StandardScaler as SS\n",
    "scale = SS()\n",
    "x = scale.fit_transform(x)\n",
    "print(x)"
   ]
  },
  {
   "cell_type": "code",
   "execution_count": null,
   "id": "7a7cdd3d",
   "metadata": {},
   "outputs": [],
   "source": [
    "#split training and test data\n",
    "from sklearn.model_selection import train_test_split as tts\n",
    "xtrain, xtest, ytrain, ytest = tts(x, y, test_size = 0.2, random_state = 42)"
   ]
  },
  {
   "cell_type": "code",
   "execution_count": null,
   "id": "c98db073",
   "metadata": {},
   "outputs": [],
   "source": [
    "#time to do dimensionality reduction\n",
    "#Using PCA\n",
    "from sklearn.decomposition import PCA\n",
    "pca = PCA(n_components = 2)\n",
    "pca_data = pca.fit_transform(xtrain)"
   ]
  },
  {
   "cell_type": "code",
   "execution_count": null,
   "id": "23a3a4ab",
   "metadata": {},
   "outputs": [],
   "source": [
    "#Using TSNE\n",
    "from sklearn.manifold import TSNE\n",
    "tsne_data = TSNE(n_components = 2).fit_transform(xtrain)"
   ]
  },
  {
   "cell_type": "code",
   "execution_count": null,
   "id": "8a5ae5bb",
   "metadata": {},
   "outputs": [],
   "source": [
    "#Using SVD\n",
    "from sklearn.decomposition import TruncatedSVD\n",
    "svd = TruncatedSVD(n_components = 2)\n",
    "svd_data = svd.fit_transform(xtrain)"
   ]
  },
  {
   "cell_type": "code",
   "execution_count": null,
   "id": "69c2cbb9",
   "metadata": {},
   "outputs": [],
   "source": [
    "#Using isomap\n",
    "from sklearn.manifold import Isomap\n",
    "iso = Isomap(n_components = 2)\n",
    "iso_data = iso.fit_transform(xtrain)"
   ]
  },
  {
   "cell_type": "code",
   "execution_count": null,
   "id": "8d220e76",
   "metadata": {},
   "outputs": [],
   "source": [
    "#Using LLE\n",
    "from sklearn.manifold import LocallyLinearEmbedding as LLE\n",
    "lle_data = LLE(n_components = 2).fit_transform(xtrain)"
   ]
  },
  {
   "cell_type": "code",
   "execution_count": null,
   "id": "53f0e526",
   "metadata": {},
   "outputs": [],
   "source": [
    "#plotting reduced data vs ytrain data\n",
    "import matplotlib.pyplot as plt\n",
    "plt.plot(pca_data, ytrain)"
   ]
  },
  {
   "cell_type": "code",
   "execution_count": null,
   "id": "dc2c9bea",
   "metadata": {},
   "outputs": [],
   "source": [
    "plt.plot(tsne_data, ytrain)"
   ]
  },
  {
   "cell_type": "code",
   "execution_count": null,
   "id": "8fe3477e",
   "metadata": {},
   "outputs": [],
   "source": [
    "plt.plot(svd_data, ytrain)"
   ]
  },
  {
   "cell_type": "code",
   "execution_count": null,
   "id": "506f0f53",
   "metadata": {},
   "outputs": [],
   "source": [
    "plt.plot(iso_data, ytrain)"
   ]
  },
  {
   "cell_type": "code",
   "execution_count": null,
   "id": "3d8f3e86",
   "metadata": {},
   "outputs": [],
   "source": [
    "plt.plot(lle_data, ytrain)"
   ]
  },
  {
   "cell_type": "code",
   "execution_count": null,
   "id": "c7804071",
   "metadata": {
    "scrolled": true
   },
   "outputs": [],
   "source": [
    "#plotting as scatter plots for clustering\n",
    "plt.scatter(pca_data[:,0], pca_data[:,1])\n",
    "plt.show()"
   ]
  },
  {
   "cell_type": "code",
   "execution_count": null,
   "id": "6a442494",
   "metadata": {},
   "outputs": [],
   "source": [
    "plt.scatter(tsne_data[:,0], tsne_data[:,1])\n",
    "plt.show()"
   ]
  },
  {
   "cell_type": "code",
   "execution_count": null,
   "id": "fd078c39",
   "metadata": {},
   "outputs": [],
   "source": [
    "plt.scatter(svd_data[:,0], svd_data[:,1])\n",
    "plt.show()"
   ]
  },
  {
   "cell_type": "code",
   "execution_count": null,
   "id": "a9ef8c14",
   "metadata": {},
   "outputs": [],
   "source": [
    "plt.scatter(iso_data[:,0], iso_data[:,1])\n",
    "plt.show()"
   ]
  },
  {
   "cell_type": "code",
   "execution_count": null,
   "id": "85b52871",
   "metadata": {
    "scrolled": true
   },
   "outputs": [],
   "source": [
    "plt.scatter(lle_data[:,0], lle_data[:,1])\n",
    "plt.show()"
   ]
  },
  {
   "cell_type": "code",
   "execution_count": null,
   "id": "9690af4f",
   "metadata": {},
   "outputs": [],
   "source": [
    "#Using tsne and svd data for clustering\n",
    "\n",
    "#starting with KMeans on SVD data\n",
    "from sklearn.cluster import KMeans as KM\n",
    "kmeans = KM(init = \"k-means++\", n_clusters = 5, n_init = 10).fit(svd_data)\n",
    "p_svd = kmeans.predict(svd_data)\n",
    "plt.scatter(svd_data[:,0], svd_data[:,1], c=p_svd)"
   ]
  },
  {
   "cell_type": "code",
   "execution_count": null,
   "id": "45a0fbc8",
   "metadata": {
    "scrolled": true
   },
   "outputs": [],
   "source": [
    "#Kmeans on TSNE data\n",
    "kmeans = KM(init = \"k-means++\", n_clusters = 5, n_init = 10).fit(tsne_data)\n",
    "p_tsne = kmeans.predict(tsne_data)\n",
    "plt.scatter(tsne_data[:,0], tsne_data[:,1], c=p_tsne)"
   ]
  },
  {
   "cell_type": "code",
   "execution_count": null,
   "id": "7eaa05fc",
   "metadata": {},
   "outputs": [],
   "source": [
    "#Now using DBScan (Density Based)\n",
    "from sklearn.cluster import DBSCAN"
   ]
  },
  {
   "cell_type": "code",
   "execution_count": null,
   "id": "7880e49d",
   "metadata": {},
   "outputs": [],
   "source": [
    "#in order to use DBScan, epsilon must be chosen and can be determined from nearest neighbors\n",
    "from sklearn.neighbors import NearestNeighbors as NN\n",
    "import numpy as np\n",
    "nabrs = NN(n_neighbors = 2).fit(svd_data)\n",
    "distance, index = nabrs.kneighbors(svd_data)\n",
    "distance = np.sort(distance, axis = 0)\n",
    "distance = distance[:,1]\n",
    "plt.grid()\n",
    "plt.plot(distance)"
   ]
  },
  {
   "cell_type": "code",
   "execution_count": null,
   "id": "b9ae764c",
   "metadata": {},
   "outputs": [],
   "source": [
    "#0.5 looks like the point of maximum curvature\n",
    "db = DBSCAN(eps = 0.5).fit(svd_data)\n",
    "clusters = db.labels_\n",
    "color_list = ['green', 'blue', 'red', 'yellow',  'orange',  'magenta', 'cyan', 'purple']\n",
    "vectorizer = np.vectorize(lambda x: color_list[x % len(color_list)])\n",
    "plt.scatter(svd_data[:,0], svd_data[:,1], c = vectorizer(clusters))"
   ]
  },
  {
   "cell_type": "code",
   "execution_count": null,
   "id": "e6ac407e",
   "metadata": {},
   "outputs": [],
   "source": [
    "#0.5 looks awful trying 0.75\n",
    "db = DBSCAN(eps = 0.75).fit(svd_data)\n",
    "clusters = db.labels_\n",
    "color_list = ['green', 'blue', 'red', 'yellow',  'orange',  'magenta', 'cyan', 'purple']\n",
    "vectorizer = np.vectorize(lambda x: color_list[x % len(color_list)])\n",
    "plt.scatter(svd_data[:,0], svd_data[:,1], c = vectorizer(clusters))"
   ]
  },
  {
   "cell_type": "code",
   "execution_count": null,
   "id": "f6c8a964",
   "metadata": {
    "scrolled": true
   },
   "outputs": [],
   "source": [
    "#testing 1\n",
    "db = DBSCAN(eps = 1).fit(svd_data)\n",
    "clusters = db.labels_\n",
    "color_list = ['green', 'blue', 'red', 'yellow',  'orange',  'magenta', 'cyan', 'purple']\n",
    "vectorizer = np.vectorize(lambda x: color_list[x % len(color_list)])\n",
    "plt.scatter(svd_data[:,0], svd_data[:,1], c = vectorizer(clusters))"
   ]
  },
  {
   "cell_type": "code",
   "execution_count": null,
   "id": "8c69c030",
   "metadata": {},
   "outputs": [],
   "source": [
    "#doing dbscan for tsne data\n",
    "nabrs = NN(n_neighbors = 2).fit(tsne_data)\n",
    "distance, index = nabrs.kneighbors(tsne_data)\n",
    "distance = np.sort(distance, axis = 0)\n",
    "distance = distance[:,1]\n",
    "plt.grid()\n",
    "plt.plot(distance)"
   ]
  },
  {
   "cell_type": "code",
   "execution_count": null,
   "id": "b4f9a4f6",
   "metadata": {},
   "outputs": [],
   "source": [
    "#1.25 looks like a good value for epsilon\n",
    "db = DBSCAN(eps = 1.25).fit(tsne_data)\n",
    "clusters = db.labels_\n",
    "color_list = ['green', 'blue', 'red', 'yellow',  'orange',  'magenta', 'cyan', 'purple']\n",
    "vectorizer = np.vectorize(lambda x: color_list[x % len(color_list)])\n",
    "plt.scatter(tsne_data[:,0], tsne_data[:,1], c = vectorizer(clusters))"
   ]
  },
  {
   "cell_type": "code",
   "execution_count": null,
   "id": "16fff30c",
   "metadata": {},
   "outputs": [],
   "source": [
    "#trying 1.5\n",
    "db = DBSCAN(eps = 1.5).fit(tsne_data)\n",
    "clusters = db.labels_\n",
    "color_list = ['green', 'blue', 'red', 'yellow',  'orange',  'magenta', 'cyan', 'purple']\n",
    "vectorizer = np.vectorize(lambda x: color_list[x % len(color_list)])\n",
    "plt.scatter(tsne_data[:,0], tsne_data[:,1], c = vectorizer(clusters))"
   ]
  },
  {
   "cell_type": "code",
   "execution_count": null,
   "id": "bb201ba6",
   "metadata": {},
   "outputs": [],
   "source": [
    "#trying 1\n",
    "db = DBSCAN(eps = 1).fit(tsne_data)\n",
    "clusters = db.labels_\n",
    "color_list = ['green', 'blue', 'red', 'yellow',  'orange',  'magenta', 'cyan', 'purple']\n",
    "vectorizer = np.vectorize(lambda x: color_list[x % len(color_list)])\n",
    "plt.scatter(tsne_data[:,0], tsne_data[:,1], c = vectorizer(clusters))"
   ]
  },
  {
   "cell_type": "code",
   "execution_count": null,
   "id": "5c01d4cc",
   "metadata": {},
   "outputs": [],
   "source": [
    "#trying 2\n",
    "db = DBSCAN(eps = 2).fit(tsne_data)\n",
    "clusters = db.labels_\n",
    "color_list = ['green', 'blue', 'red', 'yellow',  'orange',  'magenta', 'cyan', 'purple']\n",
    "vectorizer = np.vectorize(lambda x: color_list[x % len(color_list)])\n",
    "plt.scatter(tsne_data[:,0], tsne_data[:,1], c = vectorizer(clusters))"
   ]
  },
  {
   "cell_type": "code",
   "execution_count": null,
   "id": "5cdf8705",
   "metadata": {
    "scrolled": true
   },
   "outputs": [],
   "source": [
    "#trying 3\n",
    "db = DBSCAN(eps = 3).fit(tsne_data)\n",
    "clusters = db.labels_\n",
    "color_list = ['green', 'blue', 'red', 'yellow',  'orange',  'magenta', 'cyan', 'purple']\n",
    "vectorizer = np.vectorize(lambda x: color_list[x % len(color_list)])\n",
    "plt.scatter(tsne_data[:,0], tsne_data[:,1], c = vectorizer(clusters))"
   ]
  },
  {
   "cell_type": "code",
   "execution_count": null,
   "id": "a52fb8e8",
   "metadata": {
    "scrolled": true
   },
   "outputs": [],
   "source": [
    "#Final clustering method will be Agglomerative Clustering\n",
    "from sklearn.cluster import AgglomerativeClustering as AC\n",
    "import scipy.cluster.hierarchy as sch\n",
    "#The highest vertical distance that doesn't intersect with any clusters gives the optimal number of clusters which would be \n",
    "# 2 in this case. But we know that there are 5 individual labels so we'll use 5. \n",
    "dendrogram = sch.dendrogram(sch.linkage(svd_data, method='ward'))"
   ]
  },
  {
   "cell_type": "code",
   "execution_count": null,
   "id": "3cd0f006",
   "metadata": {},
   "outputs": [],
   "source": [
    "#Using agglomerative clustering with 5 clusters\n",
    "svd_clusters = AC(n_clusters=5).fit(svd_data)\n",
    "color = svd_clusters.labels_\n",
    "plt.scatter(svd_data[:,0], svd_data[:,1], c = color)"
   ]
  },
  {
   "cell_type": "code",
   "execution_count": null,
   "id": "b1600cff",
   "metadata": {},
   "outputs": [],
   "source": [
    "#Now doing AC with TSNE data\n",
    "#Looks like 3 might be the best, but, again, with knowledge of the labels we'll use 5. \n",
    "dendrogram = sch.dendrogram(sch.linkage(tsne_data, method='ward'))"
   ]
  },
  {
   "cell_type": "code",
   "execution_count": null,
   "id": "e857189d",
   "metadata": {},
   "outputs": [],
   "source": [
    "tsne_clusters = AC(n_clusters=5).fit(tsne_data)\n",
    "color = tsne_clusters.labels_\n",
    "plt.scatter(tsne_data[:,0], tsne_data[:,1], c = color)"
   ]
  }
 ],
 "metadata": {
  "kernelspec": {
   "display_name": "Python 3 (ipykernel)",
   "language": "python",
   "name": "python3"
  },
  "language_info": {
   "codemirror_mode": {
    "name": "ipython",
    "version": 3
   },
   "file_extension": ".py",
   "mimetype": "text/x-python",
   "name": "python",
   "nbconvert_exporter": "python",
   "pygments_lexer": "ipython3",
   "version": "3.10.4"
  }
 },
 "nbformat": 4,
 "nbformat_minor": 5
}
